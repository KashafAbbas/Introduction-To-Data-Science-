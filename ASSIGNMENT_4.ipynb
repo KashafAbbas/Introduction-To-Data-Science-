{
  "nbformat": 4,
  "nbformat_minor": 0,
  "metadata": {
    "colab": {
      "provenance": []
    },
    "kernelspec": {
      "name": "python3",
      "display_name": "Python 3"
    },
    "language_info": {
      "name": "python"
    }
  },
  "cells": [
    {
      "cell_type": "code",
      "execution_count": 11,
      "metadata": {
        "id": "L4cfpTbhCWcG"
      },
      "outputs": [],
      "source": [
        "import numpy as np\n",
        "import pandas as pd\n",
        "\n",
        "# Task 1: Initialize Temperature and Humidity Data\n",
        "np.random.seed(42)  # For reproducibility\n",
        "locations = 500\n",
        "days = 365\n",
        "\n",
        "# Generate random temperature data in Celsius and humidity percentages\n",
        "temperature_data = np.random.uniform(-10, 40, (locations, days))\n",
        "humidity_data = np.random.uniform(0, 100, (locations, days))\n"
      ]
    },
    {
      "cell_type": "code",
      "source": [
        "# Task 2: Check for Missing Data\n",
        "# Randomly set 5% of values in each array to NaN to simulate missing data\n",
        "total_entries = locations * days\n",
        "num_missing_values = int(0.05 * total_entries)\n",
        "\n",
        "# Choose random indices to replace with NaN\n",
        "temperature_missing_indices = np.random.choice(total_entries, num_missing_values, replace=False)\n",
        "humidity_missing_indices = np.random.choice(total_entries, num_missing_values, replace=False)\n",
        "\n",
        "# Flatten data to 1D for easy indexing, then reshape back\n",
        "temperature_data_flat = temperature_data.flatten()\n",
        "humidity_data_flat = humidity_data.flatten()\n",
        "\n",
        "temperature_data_flat[temperature_missing_indices] = np.nan\n",
        "humidity_data_flat[humidity_missing_indices] = np.nan\n",
        "\n",
        "temperature_data = temperature_data_flat.reshape(locations, days)\n",
        "humidity_data = humidity_data_flat.reshape(locations, days)\n",
        "\n",
        "# Report the total number of missing entries\n",
        "temperature_missing_total = np.isnan(temperature_data).sum()\n",
        "humidity_missing_total = np.isnan(humidity_data).sum()\n",
        "print(f\"Missing temperature entries: {temperature_missing_total}\")\n",
        "print(f\"Missing humidity entries: {humidity_missing_total}\")"
      ],
      "metadata": {
        "colab": {
          "base_uri": "https://localhost:8080/"
        },
        "id": "ed0SRZSTHckH",
        "outputId": "ecefbfcc-4e08-4cd5-f6b3-cc8fc9048fc4"
      },
      "execution_count": 4,
      "outputs": [
        {
          "output_type": "stream",
          "name": "stdout",
          "text": [
            "Missing temperature entries: 9125\n",
            "Missing humidity entries: 9125\n"
          ]
        }
      ]
    },
    {
      "cell_type": "code",
      "source": [
        "# Task 3: Convert Temperature and Calculate Discomfort Index\n",
        "# Convert Celsius to Fahrenheit\n",
        "temperature_data_fahrenheit = (temperature_data * 9/5) + 32\n",
        "\n",
        "# Calculate discomfort index as a simple \"feels like\" measure\n",
        "discomfort_index = temperature_data + (0.55 * (1 - (humidity_data / 100)) * (temperature_data - 14.5))\n",
        "\n",
        "# Cap the \"feels like\" index at 80\n",
        "discomfort_index[discomfort_index > 80] = 80\n",
        "\n",
        "# Print the output arrays\n",
        "print(\"Temperature Data in Fahrenheit:\")\n",
        "print(temperature_data_fahrenheit)\n",
        "\n",
        "print(\"\\nDiscomfort Index (capped at 80):\")\n",
        "print(discomfort_index)\n"
      ],
      "metadata": {
        "colab": {
          "base_uri": "https://localhost:8080/"
        },
        "id": "iZZvAyOaH8Ec",
        "outputId": "763d41fc-994c-43eb-f8ef-034be663c276"
      },
      "execution_count": 5,
      "outputs": [
        {
          "output_type": "stream",
          "name": "stdout",
          "text": [
            "Temperature Data in Fahrenheit:\n",
            "[[ 47.7086107   99.56428758  79.87945476 ...  55.24276014  63.10551104\n",
            "   98.73183279]\n",
            " [ 48.7492374  100.50715074  95.48155778 ...  85.57405807          nan\n",
            "   28.72903486]\n",
            " [ 28.78392181  87.31172482  73.86774986 ...  68.69631154          nan\n",
            "   34.76028305]\n",
            " ...\n",
            " [ 63.18983909  17.55575497  59.75814921 ...  37.23405737          nan\n",
            "   25.17427278]\n",
            " [ 68.78020998 103.96640574  75.49790495 ...  81.29485701  20.80774931\n",
            "   59.36306712]\n",
            " [ 89.15030872  88.76823241  35.00224112 ...  44.70666238  18.1911585\n",
            "   31.84581927]]\n",
            "\n",
            "Discomfort Index (capped at 80):\n",
            "[[  7.75480662  46.7659152   30.17497599 ...  12.20386711  18.37812055\n",
            "           nan]\n",
            " [  9.30151138  48.46543699  37.0786101  ...  35.86252567          nan\n",
            "   -3.22009595]\n",
            " [ -3.16067412  30.99670635  25.01626055 ...  20.54440367          nan\n",
            "   -0.8684746 ]\n",
            " ...\n",
            " [ 18.0337347  -15.94723889  15.87835749 ...          nan          nan\n",
            "   -6.00739084]\n",
            " [ 22.83174724          nan  26.38031445 ...  29.45557579          nan\n",
            "   15.39272072]\n",
            " [ 33.55005778  34.00178328  -2.13690251 ...   6.79939752 -15.11375583\n",
            "   -5.58947665]]\n"
          ]
        }
      ]
    },
    {
      "cell_type": "code",
      "source": [
        "# Task 4: Analyze January Temperatures\n",
        "january_temperatures = temperature_data[:, :31]\n",
        "january_avg_temp = np.nanmean(january_temperatures)\n",
        "print(f\"Average January temperature across all locations: {january_avg_temp:.2f}°C\")"
      ],
      "metadata": {
        "colab": {
          "base_uri": "https://localhost:8080/"
        },
        "id": "rbX2z4G4IVeb",
        "outputId": "7db694e3-06ca-41c4-9584-108c37d4f76e"
      },
      "execution_count": 6,
      "outputs": [
        {
          "output_type": "stream",
          "name": "stdout",
          "text": [
            "Average January temperature across all locations: 14.94°C\n"
          ]
        }
      ]
    },
    {
      "cell_type": "code",
      "source": [
        "# Task 5: Identify Extreme Temperatures\n",
        "# Set any temperature above 35°C to NaN as potential errors\n",
        "temperature_data[temperature_data > 35] = np.nan\n",
        "\n",
        "# Count the number of null values per location\n",
        "null_count_per_location = np.isnan(temperature_data).sum(axis=1)\n",
        "print(\"Null values per location due to extreme temperatures:\", null_count_per_location)\n"
      ],
      "metadata": {
        "colab": {
          "base_uri": "https://localhost:8080/"
        },
        "id": "t-h7GD0uIqC0",
        "outputId": "62fcdede-2092-4586-945c-1f7364a58bc4"
      },
      "execution_count": 7,
      "outputs": [
        {
          "output_type": "stream",
          "name": "stdout",
          "text": [
            "Null values per location due to extreme temperatures: [54 58 56 55 44 47 61 54 48 45 51 48 44 50 60 56 54 54 53 55 50 47 42 46\n",
            " 49 56 42 54 52 47 56 53 70 48 46 67 49 54 47 58 40 52 43 52 62 54 58 52\n",
            " 50 48 48 67 67 46 56 53 59 56 48 63 57 70 53 48 64 54 49 47 63 52 47 50\n",
            " 55 45 67 52 47 51 50 46 44 48 54 54 52 64 50 53 53 42 54 59 47 50 42 56\n",
            " 49 52 63 48 49 47 51 56 57 57 59 47 46 61 59 39 61 53 48 52 61 47 48 57\n",
            " 54 46 53 59 57 49 57 47 48 51 58 60 54 59 38 51 49 57 56 55 44 55 48 52\n",
            " 52 58 59 59 49 55 52 51 49 53 55 62 44 47 53 44 56 58 47 56 62 44 53 66\n",
            " 59 66 61 61 51 39 55 54 52 54 49 38 50 46 39 42 39 53 48 55 67 51 47 58\n",
            " 43 49 49 46 53 48 46 54 70 53 50 62 37 73 46 63 38 59 50 47 51 46 52 49\n",
            " 41 45 49 48 50 56 68 62 46 50 60 51 46 68 51 53 49 60 65 52 64 55 51 47\n",
            " 57 46 49 57 47 58 58 51 57 45 61 58 38 49 50 45 43 55 50 56 47 55 55 49\n",
            " 60 67 58 58 48 41 41 54 50 49 48 46 64 46 57 42 56 48 43 65 51 48 39 57\n",
            " 51 48 51 52 58 53 49 41 63 55 51 47 56 57 40 58 50 51 52 44 54 66 59 59\n",
            " 52 53 54 50 56 52 53 48 50 53 48 55 53 42 51 50 44 53 54 50 49 49 54 45\n",
            " 36 52 43 53 47 54 48 59 54 48 58 47 56 45 38 46 59 50 58 51 57 57 51 51\n",
            " 54 58 60 53 58 59 58 48 54 52 56 48 58 48 49 55 46 67 48 52 57 60 50 59\n",
            " 52 54 45 49 54 65 55 64 57 62 55 60 57 59 52 50 48 61 55 52 56 46 68 55\n",
            " 38 53 65 56 44 47 55 54 61 53 53 59 57 53 50 53 50 56 57 64 48 42 53 53\n",
            " 51 55 52 50 57 40 49 60 53 46 63 47 50 58 52 55 56 52 56 42 54 60 53 48\n",
            " 50 67 56 56 48 42 53 58 54 52 50 50 52 51 61 47 48 64 67 61 49 59 49 48\n",
            " 63 58 49 46 43 53 49 53 67 64 54 58 54 47 45 46 58 52 50 67]\n"
          ]
        }
      ]
    },
    {
      "cell_type": "code",
      "source": [
        "# Task 6: Calculate Quarterly Temperature Averages\n",
        "# Reshape data to calculate seasonal averages\n",
        "temperature_data_quarters = temperature_data.reshape(locations, 4, 91)\n",
        "quarterly_averages = np.nanmean(temperature_data_quarters, axis=2)\n",
        "print(\"Quarterly temperature averages for each location:\\n\", quarterly_averages)"
      ],
      "metadata": {
        "colab": {
          "base_uri": "https://localhost:8080/",
          "height": 211
        },
        "id": "rORUjbPCI5e3",
        "outputId": "34fa07a8-3d0a-4706-cad3-e1dcd29646b3"
      },
      "execution_count": 8,
      "outputs": [
        {
          "output_type": "error",
          "ename": "ValueError",
          "evalue": "cannot reshape array of size 182500 into shape (500,4,91)",
          "traceback": [
            "\u001b[0;31m---------------------------------------------------------------------------\u001b[0m",
            "\u001b[0;31mValueError\u001b[0m                                Traceback (most recent call last)",
            "\u001b[0;32m<ipython-input-8-20716c0b6b07>\u001b[0m in \u001b[0;36m<cell line: 3>\u001b[0;34m()\u001b[0m\n\u001b[1;32m      1\u001b[0m \u001b[0;31m# Task 6: Calculate Quarterly Temperature Averages\u001b[0m\u001b[0;34m\u001b[0m\u001b[0;34m\u001b[0m\u001b[0m\n\u001b[1;32m      2\u001b[0m \u001b[0;31m# Reshape data to calculate seasonal averages\u001b[0m\u001b[0;34m\u001b[0m\u001b[0;34m\u001b[0m\u001b[0m\n\u001b[0;32m----> 3\u001b[0;31m \u001b[0mtemperature_data_quarters\u001b[0m \u001b[0;34m=\u001b[0m \u001b[0mtemperature_data\u001b[0m\u001b[0;34m.\u001b[0m\u001b[0mreshape\u001b[0m\u001b[0;34m(\u001b[0m\u001b[0mlocations\u001b[0m\u001b[0;34m,\u001b[0m \u001b[0;36m4\u001b[0m\u001b[0;34m,\u001b[0m \u001b[0;36m91\u001b[0m\u001b[0;34m)\u001b[0m\u001b[0;34m\u001b[0m\u001b[0;34m\u001b[0m\u001b[0m\n\u001b[0m\u001b[1;32m      4\u001b[0m \u001b[0mquarterly_averages\u001b[0m \u001b[0;34m=\u001b[0m \u001b[0mnp\u001b[0m\u001b[0;34m.\u001b[0m\u001b[0mnanmean\u001b[0m\u001b[0;34m(\u001b[0m\u001b[0mtemperature_data_quarters\u001b[0m\u001b[0;34m,\u001b[0m \u001b[0maxis\u001b[0m\u001b[0;34m=\u001b[0m\u001b[0;36m2\u001b[0m\u001b[0;34m)\u001b[0m\u001b[0;34m\u001b[0m\u001b[0;34m\u001b[0m\u001b[0m\n\u001b[1;32m      5\u001b[0m \u001b[0mprint\u001b[0m\u001b[0;34m(\u001b[0m\u001b[0;34m\"Quarterly temperature averages for each location:\\n\"\u001b[0m\u001b[0;34m,\u001b[0m \u001b[0mquarterly_averages\u001b[0m\u001b[0;34m)\u001b[0m\u001b[0;34m\u001b[0m\u001b[0;34m\u001b[0m\u001b[0m\n",
            "\u001b[0;31mValueError\u001b[0m: cannot reshape array of size 182500 into shape (500,4,91)"
          ]
        }
      ]
    },
    {
      "cell_type": "code",
      "source": [
        "# Task 7: Classify Humidity Levels\n",
        "humidity_classification = np.where(humidity_data < 30, \"Dry\", np.where(humidity_data > 70, \"Humid\", \"Moderate\"))\n",
        "dry_days_count = np.sum(humidity_classification == \"Dry\", axis=1)\n",
        "humid_days_count = np.sum(humidity_classification == \"Humid\", axis=1)\n",
        "print(\"Total 'Dry' days per location:\", dry_days_count)\n",
        "print()\n",
        "print(\"Total 'Humid' days per location:\", humid_days_count)"
      ],
      "metadata": {
        "colab": {
          "base_uri": "https://localhost:8080/"
        },
        "id": "9ygCd3MLJjlA",
        "outputId": "afb2a247-46ee-4f26-9671-a76abac0fd19"
      },
      "execution_count": 13,
      "outputs": [
        {
          "output_type": "stream",
          "name": "stdout",
          "text": [
            "Total 'Dry' days per location: [113 107 113 106 118 102 120 114 107 121 110 110  90 107 110 103 114  95\n",
            " 105  96 111  97  97 136  98 112 126  92 112 110 109 115 106 116 110 110\n",
            " 114 109 107 107 119  98 122 117 111 118 127 121 104 125 113 122 103 126\n",
            " 107 111 114 109 114 113 122  93 112 122 118 107 122 102 103 101 125 107\n",
            " 113 113 112 109 119 109 109 125  98 106 112  94 114 123 123 103  93 121\n",
            " 106  92 111 106 108 104 103 109 120  97 108 122  94 111 107 112 108 112\n",
            " 110  93  88 124 116 116 100 110 111 107  99 108  94  99 108 109 107 112\n",
            " 103 100 104 110 112 104 120 104 104  95 121 118 117 106 119 103  98 119\n",
            " 116 106 100 114 107 111 119 111 114 115 105 115 106 105 102 112 115 126\n",
            " 107 102 114 103 113 111 111 117 106 102 105 124  91 116 106  88 108 120\n",
            " 115 100 110 117 103 113 105 121 118 127 113 108 101  89 121 114  91 109\n",
            " 112 112 115 108  97 106 113 107 112 103  94 100  90 108 120 109 108  99\n",
            " 107  94 115 105 111 110 115  95 111 107 109 115 107 111 109 104 112 102\n",
            " 101 106 100 113 111 115 102 108 107 105 100 108 116 110 105 106 106 111\n",
            " 115  98 107 100 111 124 118  98 108  95 113 117 113 120  99 118 115  97\n",
            " 117 123 111 104 109 125 114 122 112 121 104 105 107 119 124 103 104 110\n",
            " 102 116 113 111 119 114 130 121 113  94 118 111  99 113  99  97 117 104\n",
            " 104 128 111 113 108 106 126 104 107 109 115  95 105 102 111 117 111 108\n",
            " 102 117 111 116 122  98 109 109 114 110 115 116 108 111 110 118 118 118\n",
            " 112 102  86  97 108 110 102 108 106 131 118 110 107 119 101 124 100 110\n",
            " 114 112 115 113 100 120 125 102 128 122 103 100 108 103 126  87 109 113\n",
            " 105 123 101 114 114 118 100 114 100 111 113 101 112 115 120 105 116 117\n",
            " 112 114 108  99 127 115 102 104 111 114 110 104  87 109 108 106 108 107\n",
            " 118 116 111 110  97 117  98 104 122 100 106 118 105 116 127 103 124 104\n",
            "  97 105 108 105  99 117 108 117 118  98 105 109 114 115 120 116  96 126\n",
            "  98 119 134 109  98 111  99 125  99 111 104 104 105 119 111 114 107 103\n",
            " 118 100 114 103 101 102 118 107 110  99 110 118 122  99 115 132 109 120\n",
            " 111 115 125  88  89 103 124  95  94 109  98 108 100 105]\n",
            "\n",
            "Total 'Humid' days per location: [116 115 108 120 100 110 114 105 106 108 120 110 123 108  97 122 121 114\n",
            " 115 103 107 111 110  96 114 109 104 130 104 104 111 110 114 108 105 116\n",
            " 123 113 112 121 110 116  90 113  98 114  99  87 117 106  91 105 125 113\n",
            " 121 115  99 115 102 103 118 118 107 110  88 111 103 118 109 125 109  98\n",
            "  95 109 115 115 101 106  95 104 105 118 106 125 116 103 115 104 119  91\n",
            "  92 125 106 110 120 113 127 113 113 117 106 108 118 118 104 105 110 119\n",
            " 106 128 110 101 110 107 109 103  93 106 121 120 118 120 108 110 113 102\n",
            " 122  93 127 103 125 130 102 114 108 111 106  89 117 102 101 114 112 115\n",
            " 115 111 104 102 125 112 113 106  98 104 112 113  99  92 114  98 117 106\n",
            " 105 104 103 115 112  91 106 118 102 117 119 103 121 106 101 119 113 108\n",
            "  99 114  93 107 112 122 106  97  94  87 100 101 116 134 103  99 108 118\n",
            " 100 102 113 109 101 103 104 118 105 112 117 116 122 109 102 111 101 112\n",
            " 114 119  98 111 125 115  92 116 104 103 113  96 104 117 111 111 116 110\n",
            " 112 112 131 106 129  99 127 117 104 102 120 107 117 109 110 118 108 112\n",
            " 104 121  97 124 101 106 102 126 109 126 113 105 107 104 110 110 101 115\n",
            " 113 104 103 107 114 107 110 115  98 104  97 111 115 113 107 118 111 120\n",
            " 122 107 105 102 113 109 100 107  96 105 113  98 109 110 112 113 118 114\n",
            "  99 100 101 115  99 122 108 115 110 111 112 109  97 109 113 120 109 114\n",
            " 121 104 112 111 113  93 116 120 105 116 103 109 106 129 106 131 104 105\n",
            " 100 120 115 110 106 109 102 124 107  98 115 108 114 102 123 102 116  95\n",
            " 111 113  95 108  89  96 110 120 111  91 100 113 106 106 109 118  97 116\n",
            " 121 103 104 109 114  99 118 107 113 103 106 115  93 114 120  94 120 109\n",
            " 113 113 106 104 115 123 106 125 109 118 104 105 120 106 102 118 101 110\n",
            " 108 111 109 110 117 110 117 113 114 112 112 107 100 103 100 120 102 110\n",
            " 115 108 104  91 117  95 103 107 110 104 104 115  96 104 110 117 115  98\n",
            " 113 113  77 119 113 113 130  94 101 105 133 113  98 102  95 111 105 108\n",
            " 116 103 100 108 121 114  99 117 116 120 116  97 112 112 110 109 112 103\n",
            " 115 110 111 122 114 125 108 112 113 112 108 113 109 111]\n"
          ]
        }
      ]
    },
    {
      "cell_type": "code",
      "source": [
        "# Task 8: Apply Daily Pressure Trend to Temperature Data\n",
        "# Create a sinusoidal pressure trend to simulate seasonal changes\n",
        "pressure_trend = 5 * np.sin(2 * np.pi * np.arange(days) / days)\n",
        "temperature_adjusted = temperature_data + pressure_trend\n",
        "\n",
        "# Display some adjusted temperature data to verify adjustments\n",
        "print(\"Sample adjusted temperatures:\", temperature_adjusted[:5, :10])"
      ],
      "metadata": {
        "colab": {
          "base_uri": "https://localhost:8080/"
        },
        "id": "UP9K7d26NVZt",
        "outputId": "fa86f864-6248-4897-d180-5a05967f07f9"
      },
      "execution_count": 10,
      "outputs": [
        {
          "output_type": "stream",
          "name": "stdout",
          "text": [
            "Sample adjusted temperatures: [[ 8.72700594         nan 26.77180515 20.19102255 -1.85505584 -1.77044999\n",
            "  -6.5803109          nan 20.74214445 26.17517299]\n",
            " [ 9.30513189         nan         nan  0.04765508 -6.18792282 -4.53127594\n",
            "  -8.57340023 -4.67681174 24.83673253 -5.66902347]\n",
            " [-1.7867101  30.81480279 23.43196909 16.41136957  8.28553634 34.28985103\n",
            "  10.13776386 31.4310122  12.64313929  9.61876557]\n",
            " [-1.1735984   1.11037723 -0.50597883 29.23732201  7.85027509 -6.67804218\n",
            "          nan 34.79033447         nan         nan]\n",
            " [ 9.69322028 22.64771563 -4.49824043 23.15036357         nan -7.15957406\n",
            "          nan 10.94643826 34.22406638 29.89081831]]\n"
          ]
        }
      ]
    }
  ]
}