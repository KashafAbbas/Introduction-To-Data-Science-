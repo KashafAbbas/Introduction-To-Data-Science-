{
  "nbformat": 4,
  "nbformat_minor": 0,
  "metadata": {
    "colab": {
      "provenance": []
    },
    "kernelspec": {
      "name": "python3",
      "display_name": "Python 3"
    },
    "language_info": {
      "name": "python"
    }
  },
  "cells": [
    {
      "cell_type": "code",
      "execution_count": null,
      "metadata": {
        "colab": {
          "base_uri": "https://localhost:8080/"
        },
        "id": "ad-uUPSXLm2j",
        "outputId": "6efdd1cc-7b15-4f9e-80dd-d117a8b420d0"
      },
      "outputs": [
        {
          "output_type": "stream",
          "name": "stdout",
          "text": [
            "Filtered valid orders:\n",
            "[{'customer': 'Alice', 'total': 250.5}, {'customer': 'Charlie', 'total': 450}, {'customer': 'Daisy', 'total': 100.0}]\n",
            "\n",
            "Orders after applying discount:\n",
            "[{'customer': 'Alice', 'total': 250.5}, {'customer': 'Charlie', 'total': 405.0}, {'customer': 'Daisy', 'total': 100.0}]\n",
            "\n",
            "Total sales after discount:\n",
            "755.5\n",
            "\n"
          ]
        }
      ],
      "source": [
        "# Task 1\n",
        "# Part A\n",
        "# Given\n",
        "orders = [\n",
        "    {\"customer\": \"Alice\", \"total\": 250.5},\n",
        "    {\"customer\": \"Bob\", \"total\": \"invalid_data\"},\n",
        "    {\"customer\": \"Charlie\", \"total\": 450},\n",
        "    {\"customer\": \"Daisy\", \"total\": 100.0},\n",
        "    {\"customer\": \"Eve\", \"total\": -30},  # Invalid total\n",
        "]\n",
        "\n",
        "# Lambda function to filter valid orders\n",
        "def validateorders(order_list):\n",
        "    return list(filter(lambda x: validorder(x), order_list))\n",
        "\n",
        "# Exception handling\n",
        "def validorder(order):\n",
        "    try:\n",
        "        total = float(order['total'])  # Attempt to convert to float\n",
        "        return total >= 0  # Valid if total is non-negative\n",
        "    except (ValueError, TypeError):\n",
        "        return False  # Invalid if conversion fails\n",
        "\n",
        "# Return filtered orders\n",
        "valid_orders = validateorders(orders)\n",
        "print(\"Filtered valid orders:\")\n",
        "print(valid_orders)\n",
        "print()\n",
        "\n",
        "# Part B\n",
        "# map() function with a lambda to apply the discount to qualifying orders.\n",
        "def discountorders(order_list):\n",
        "    return list(map(lambda x: applydiscountifeligible(x), order_list))\n",
        "\n",
        "def applydiscountifeligible(order):\n",
        "    if order['total'] > 300:\n",
        "        order['total'] *= 0.9  # Apply 10% discount\n",
        "    return order\n",
        "\n",
        "discounted_orders = discountorders(valid_orders)\n",
        "print(\"Orders after applying discount:\")\n",
        "print(discounted_orders)\n",
        "print()\n",
        "\n",
        "# Part C\n",
        "from functools import reduce\n",
        "# reduce() function with a lambda\n",
        "def calctotalsales(order_list):\n",
        "    return reduce(lambda acc, order: acc + order['total'], order_list, 0)\n",
        "\n",
        "total_sales = calctotalsales(discounted_orders)\n",
        "print(\"Total sales after discount:\")\n",
        "print(total_sales)\n",
        "print()\n",
        "\n",
        "\n",
        "\n"
      ]
    },
    {
      "cell_type": "code",
      "source": [
        "# Task 2\n",
        "# Part A\n",
        "# Custom iterator class SquareIterator\n",
        "class SquareIterator:\n",
        "    def __init__(self, n):\n",
        "        self.n = n\n",
        "        self.current = 1\n",
        "\n",
        "    def __iter__(self):\n",
        "        return self\n",
        "\n",
        "    def __next__(self):\n",
        "        if self.current <= self.n:\n",
        "            result = self.current ** 2\n",
        "            self.current += 1\n",
        "            return result\n",
        "        else:\n",
        "            raise StopIteration\n",
        "\n",
        "# example\n",
        "print(\"Squares of the first 5 natural numbers:\")\n",
        "square_iter = SquareIterator(5)\n",
        "first = True\n",
        "for num in square_iter:\n",
        "    if not first:\n",
        "        print(\", \", end=\"\")\n",
        "    print(num, end=\"\")\n",
        "    first = False\n",
        "print()\n",
        "print()\n",
        "\n",
        "# Part B\n",
        "# A generator function fibonacci_generator() that yields the Fibonacci sequence\n",
        "def fibonaccigenerator(n):\n",
        "    a, b = 0, 1\n",
        "    while a <= n:\n",
        "        yield a\n",
        "        a, b = b, a + b\n",
        "\n",
        "# example\n",
        "print(\"Fibonacci sequence up to 10:\")\n",
        "first = True\n",
        "for num in fibonaccigenerator(10):\n",
        "    if not first:\n",
        "        print(\", \", end=\"\")\n",
        "    print(num, end=\"\")\n",
        "    first = False"
      ],
      "metadata": {
        "colab": {
          "base_uri": "https://localhost:8080/"
        },
        "id": "NC3yULegXwEI",
        "outputId": "28a9dc41-4f03-495a-9c8e-3233dc525e5b"
      },
      "execution_count": null,
      "outputs": [
        {
          "output_type": "stream",
          "name": "stdout",
          "text": [
            "Squares of the first 5 natural numbers:\n",
            "1, 4, 9, 16, 25\n",
            "\n",
            "Fibonacci sequence up to 10:\n",
            "0, 1, 1, 2, 3, 5, 8\n",
            "\n"
          ]
        }
      ]
    },
    {
      "cell_type": "code",
      "source": [
        "#Task 3\n",
        "#Part A\n",
        "class DivisionByZeroError(Exception):\n",
        "    pass\n",
        "\n",
        "def divide_numbers(numbers, divisor):\n",
        "    try:\n",
        "        if divisor == 0:\n",
        "            raise DivisionByZeroError(\"Cannot divide by zero\")\n",
        "        return [x / divisor for x in numbers]\n",
        "    except TypeError as e:\n",
        "        raise TypeError(\"Invalid input, non-numeric value found\") from e\n",
        "\n",
        "# example\n",
        "try:\n",
        "    result = divide_numbers([10, 20, \"aaa\", 40], 2)\n",
        "    print (result)\n",
        "except Exception as e:\n",
        "    print(e)\n",
        "print()\n",
        "\n",
        "\n",
        "#part B\n",
        "import functools\n",
        "\n",
        "def exception_logger(func):\n",
        "    @functools.wraps(func)\n",
        "    def wrapper(*args, **kwargs):\n",
        "        try:\n",
        "            return func(*args, **kwargs)\n",
        "        except Exception as e:\n",
        "            print(f\"Exception in {func.__name__}: {type(e).__name__} - {e}\")\n",
        "            raise\n",
        "    return wrapper\n",
        "\n",
        "@exception_logger\n",
        "def faulty_function(x):\n",
        "    return 10 / x\n",
        "\n",
        "# example\n",
        "try:\n",
        "    faulty_function(0)\n",
        "except Exception as e:\n",
        "    pass\n",
        "\n"
      ],
      "metadata": {
        "colab": {
          "base_uri": "https://localhost:8080/"
        },
        "id": "6hQFwrZoYK5x",
        "outputId": "4201d633-1ac2-472d-c435-dd7d104df454"
      },
      "execution_count": null,
      "outputs": [
        {
          "output_type": "stream",
          "name": "stdout",
          "text": [
            "Invalid input, non-numeric value found\n",
            "\n",
            "Exception in faulty_function: ZeroDivisionError - division by zero\n"
          ]
        }
      ]
    }
  ]
}